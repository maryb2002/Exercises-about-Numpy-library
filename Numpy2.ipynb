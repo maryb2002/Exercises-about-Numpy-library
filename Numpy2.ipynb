{
  "nbformat": 4,
  "nbformat_minor": 0,
  "metadata": {
    "colab": {
      "provenance": [],
      "authorship_tag": "ABX9TyPqeR1rs05UKfFxaTyVoIjf",
      "include_colab_link": true
    },
    "kernelspec": {
      "name": "python3",
      "display_name": "Python 3"
    },
    "language_info": {
      "name": "python"
    }
  },
  "cells": [
    {
      "cell_type": "markdown",
      "metadata": {
        "id": "view-in-github",
        "colab_type": "text"
      },
      "source": [
        "<a href=\"https://colab.research.google.com/github/maryb2002/Exercises-about-Numpy-library/blob/main/Numpy2.ipynb\" target=\"_parent\"><img src=\"https://colab.research.google.com/assets/colab-badge.svg\" alt=\"Open In Colab\"/></a>"
      ]
    },
    {
      "cell_type": "code",
      "execution_count": null,
      "metadata": {
        "colab": {
          "base_uri": "https://localhost:8080/"
        },
        "id": "uREvrsxY8BnB",
        "outputId": "db7d5b72-0e9e-4611-b35c-1b504ad68503"
      },
      "outputs": [
        {
          "output_type": "stream",
          "name": "stdout",
          "text": [
            "[[ 9  2  3 10]\n",
            " [ 4  3  8  6]\n",
            " [ 6  6  1  6]]\n",
            "(3, 4)\n",
            "[[3 2 5 3]\n",
            " [4 9 6 4]\n",
            " [5 3 2 5]]\n",
            "(3, 4)\n",
            "adding numbers\n",
            "[[12  4  8 13]\n",
            " [ 8 12 14 10]\n",
            " [11  9  3 11]]\n",
            "subtracting numbers\n",
            "[[ 6  0 -2  7]\n",
            " [ 0 -6  2  2]\n",
            " [ 1  3 -1  1]]\n",
            "multiplier numbers\n",
            "[[27  4 15 30]\n",
            " [16 27 48 24]\n",
            " [30 18  2 30]]\n",
            "[[12  4  8 13]\n",
            " [ 8 12 14 10]\n",
            " [11  9  3 11]]\n",
            "[[27  4 15 30]\n",
            " [16 27 48 24]\n",
            " [30 18  2 30]]\n",
            "[[3.         1.         0.6        3.33333333]\n",
            " [1.         0.33333333 1.33333333 1.5       ]\n",
            " [1.2        2.         0.5        1.2       ]]\n"
          ]
        }
      ],
      "source": [
        "import numpy as np\n",
        "a= np.random.randint(1, 11, (3, 4))\n",
        "b= np.random.randint(1, 11, (3, 4))\n",
        "print(a)\n",
        "print(a.shape)\n",
        "print(b)\n",
        "print(b.shape)\n",
        "print('adding numbers')\n",
        "print(a+b)\n",
        "print('subtracting numbers')\n",
        "print(a-b)\n",
        "print('multiplier numbers')\n",
        "print(a*b)\n",
        "\n",
        "\n",
        "print(np.add(a,b))\n",
        "print(np.multiply(a,b))\n",
        "print(np.divide(a,b))"
      ]
    },
    {
      "cell_type": "code",
      "source": [
        "a = np.random.randint(1, 11, size=(2, 3))\n",
        "b = np.random.randint(1, 11, size=(3, 4 ))\n",
        "\n",
        "print(a)\n",
        "print(a.shape)\n",
        "print(b)\n",
        "print(b.shape)\n",
        "print(np.dot(a,b))"
      ],
      "metadata": {
        "colab": {
          "base_uri": "https://localhost:8080/"
        },
        "id": "JWSiEdsE8J4F",
        "outputId": "e52baa8b-2184-435f-ddd6-0155b79f4376"
      },
      "execution_count": null,
      "outputs": [
        {
          "output_type": "stream",
          "name": "stdout",
          "text": [
            "[[ 4  5  7]\n",
            " [ 6 10  5]]\n",
            "(2, 3)\n",
            "[[10  1  6  4]\n",
            " [ 4  2  4  4]\n",
            " [10  3  4  1]]\n",
            "(3, 4)\n",
            "[[130  35  72  43]\n",
            " [150  41  96  69]]\n"
          ]
        }
      ]
    },
    {
      "cell_type": "code",
      "source": [
        "a= np.random.randint(1, 11, (2, 2))\n",
        "print(a.shape)\n",
        "print(type(a))\n",
        "print(a)\n",
        "print(a.T)"
      ],
      "metadata": {
        "colab": {
          "base_uri": "https://localhost:8080/"
        },
        "id": "aCak-S_I8MM3",
        "outputId": "2a376b96-7ff1-498b-e9b8-712cf742f1b3"
      },
      "execution_count": null,
      "outputs": [
        {
          "output_type": "stream",
          "name": "stdout",
          "text": [
            "(2, 2)\n",
            "<class 'numpy.ndarray'>\n",
            "[[3 3]\n",
            " [9 2]]\n",
            "[[3 9]\n",
            " [3 2]]\n"
          ]
        }
      ]
    },
    {
      "cell_type": "code",
      "source": [
        "a= np.random.randint(1, 11, (4, 3))\n",
        "b= np.array((1,0,2))\n",
        "print(a)\n",
        "print(a.shape)\n",
        "print(b)\n",
        "print(b.shape)\n",
        "\n",
        "c=np.empty_like(a)\n",
        "\n",
        "print(c.shape)\n",
        "print('----------------')\n",
        "print(c)"
      ],
      "metadata": {
        "colab": {
          "base_uri": "https://localhost:8080/"
        },
        "id": "XjslrkG58OSu",
        "outputId": "336ee0a3-25ae-49c7-f85f-c24f103fcbb7"
      },
      "execution_count": null,
      "outputs": [
        {
          "output_type": "stream",
          "name": "stdout",
          "text": [
            "[[10  4  6]\n",
            " [ 7  6  6]\n",
            " [ 9 10  8]\n",
            " [ 9  7  6]]\n",
            "(4, 3)\n",
            "[1 0 2]\n",
            "(3,)\n",
            "(4, 3)\n",
            "----------------\n",
            "[[ 9  2  3]\n",
            " [10  4  3]\n",
            " [ 8  6  6]\n",
            " [ 6  1  6]]\n"
          ]
        }
      ]
    },
    {
      "cell_type": "code",
      "source": [
        "for i in range(4):\n",
        "  c[i,:]=a[i,:]+b\n",
        "\n",
        "print(a)\n",
        "print(b)\n",
        "print(c)\n",
        "\n",
        "c=a+b\n",
        "print(c)"
      ],
      "metadata": {
        "colab": {
          "base_uri": "https://localhost:8080/"
        },
        "id": "s3AbSXhH8RlJ",
        "outputId": "1b06f996-4ffd-4f5b-cd06-65b9d5cbf1ce"
      },
      "execution_count": null,
      "outputs": [
        {
          "output_type": "stream",
          "name": "stdout",
          "text": [
            "[[10  4  6]\n",
            " [ 7  6  6]\n",
            " [ 9 10  8]\n",
            " [ 9  7  6]]\n",
            "[1 0 2]\n",
            "[[11  4  8]\n",
            " [ 8  6  8]\n",
            " [10 10 10]\n",
            " [10  7  8]]\n",
            "[[11  4  8]\n",
            " [ 8  6  8]\n",
            " [10 10 10]\n",
            " [10  7  8]]\n"
          ]
        }
      ]
    },
    {
      "cell_type": "code",
      "source": [
        "a=np.array((1,2,3))\n",
        "\n",
        "print(a)\n",
        "tmp=np.tile(a,(6,1))\n",
        "print(tmp)\n"
      ],
      "metadata": {
        "colab": {
          "base_uri": "https://localhost:8080/"
        },
        "id": "RPJ62flL8T1N",
        "outputId": "82259ec8-3845-4ce7-9fd8-ce6a2d300b9e"
      },
      "execution_count": null,
      "outputs": [
        {
          "output_type": "stream",
          "name": "stdout",
          "text": [
            "[1 2 3]\n",
            "[[1 2 3]\n",
            " [1 2 3]\n",
            " [1 2 3]\n",
            " [1 2 3]\n",
            " [1 2 3]\n",
            " [1 2 3]]\n"
          ]
        }
      ]
    },
    {
      "cell_type": "code",
      "source": [
        "a= np.random.randint(0,10 , (6, 6))\n",
        "print(a)\n",
        "aux=np.mean(a)\n",
        "print(aux)\n",
        "\n",
        "print(a.mean(axis=1))\n",
        "print(a.mean(axis=0))"
      ],
      "metadata": {
        "colab": {
          "base_uri": "https://localhost:8080/"
        },
        "id": "7wVLq6cD8WJt",
        "outputId": "4e30889a-7428-4e56-ee9d-cfeeaa81d72e"
      },
      "execution_count": null,
      "outputs": [
        {
          "output_type": "stream",
          "name": "stdout",
          "text": [
            "[[7 7 5 9 6 6]\n",
            " [1 8 0 7 6 6]\n",
            " [8 3 0 8 5 5]\n",
            " [8 0 8 0 7 2]\n",
            " [9 5 6 7 9 9]\n",
            " [7 3 4 5 5 1]]\n",
            "5.333333333333333\n",
            "[6.66666667 4.66666667 4.83333333 4.16666667 7.5        4.16666667]\n",
            "[6.66666667 4.33333333 3.83333333 6.         6.33333333 4.83333333]\n"
          ]
        }
      ]
    }
  ]
}