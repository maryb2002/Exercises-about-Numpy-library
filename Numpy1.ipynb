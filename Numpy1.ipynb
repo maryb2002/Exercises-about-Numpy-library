{
  "nbformat": 4,
  "nbformat_minor": 0,
  "metadata": {
    "colab": {
      "provenance": [],
      "authorship_tag": "ABX9TyPZp5b1CRS6hDW1O5J8YQsK",
      "include_colab_link": true
    },
    "kernelspec": {
      "name": "python3",
      "display_name": "Python 3"
    },
    "language_info": {
      "name": "python"
    }
  },
  "cells": [
    {
      "cell_type": "markdown",
      "metadata": {
        "id": "view-in-github",
        "colab_type": "text"
      },
      "source": [
        "<a href=\"https://colab.research.google.com/github/maryb2002/Exercises-about-Numpy-library/blob/main/Numpy1.ipynb\" target=\"_parent\"><img src=\"https://colab.research.google.com/assets/colab-badge.svg\" alt=\"Open In Colab\"/></a>"
      ]
    },
    {
      "cell_type": "code",
      "execution_count": null,
      "metadata": {
        "colab": {
          "base_uri": "https://localhost:8080/"
        },
        "id": "_l98KnPQ7a0x",
        "outputId": "1fbca9fc-760a-44d0-c172-54b60a4cbbfa"
      },
      "outputs": [
        {
          "output_type": "stream",
          "name": "stdout",
          "text": [
            "{1, 2, 4, 5}\n",
            "()\n",
            "(2, 4)\n",
            "[[1 2 3 4]\n",
            " [1 2 3 4]]\n",
            "<class 'numpy.ndarray'>\n",
            "[[0. 0. 0. 0.]\n",
            " [0. 0. 0. 0.]\n",
            " [0. 0. 0. 0.]\n",
            " [0. 0. 0. 0.]]\n",
            "[[5 5 5 5]\n",
            " [5 5 5 5]\n",
            " [5 5 5 5]\n",
            " [5 5 5 5]]\n",
            "[[1. 0. 0. 0.]\n",
            " [0. 1. 0. 0.]\n",
            " [0. 0. 1. 0.]\n",
            " [0. 0. 0. 1.]]\n",
            "--------------\n",
            "[[1. 1. 1. 1.]\n",
            " [1. 1. 1. 1.]\n",
            " [1. 1. 1. 1.]\n",
            " [1. 1. 1. 1.]]\n"
          ]
        }
      ],
      "source": [
        "import numpy as np\n",
        "\n",
        "aux=np.array({1,2,4,5})\n",
        "print(aux)\n",
        "print(aux.shape)\n",
        "\n",
        "aux=np.array([[1,2,3,4],[1,2,3,4]])\n",
        "print(aux.shape)\n",
        "print(aux)\n",
        "print(type(aux))\n",
        "\n",
        "tmp=np.zeros((4,4))\n",
        "print(tmp)\n",
        "tmp=np.full((4,4),5)\n",
        "print(tmp)\n",
        "tmp=np.eye(4,4)\n",
        "print(tmp)\n",
        "print('--------------')\n",
        "tmp=np.ones((4,4))\n",
        "print(tmp)"
      ]
    },
    {
      "cell_type": "code",
      "source": [
        "tmp=10*np.random.random((3,3))\n",
        "print(tmp)"
      ],
      "metadata": {
        "colab": {
          "base_uri": "https://localhost:8080/"
        },
        "id": "dEMg9OFX7nii",
        "outputId": "6f18de2f-0002-401b-b6ef-3c2576855f0b"
      },
      "execution_count": null,
      "outputs": [
        {
          "output_type": "stream",
          "name": "stdout",
          "text": [
            "[[5.1160227  3.10762712 3.43469931]\n",
            " [7.7797869  1.12312808 0.16009195]\n",
            " [3.48736675 4.98286513 5.1919664 ]]\n"
          ]
        }
      ]
    },
    {
      "cell_type": "code",
      "source": [
        "print(tmp[:2,:2])"
      ],
      "metadata": {
        "colab": {
          "base_uri": "https://localhost:8080/"
        },
        "id": "rTrpZFB-7re0",
        "outputId": "7528e80e-fcd0-4dea-8cbc-649060cd5e03"
      },
      "execution_count": null,
      "outputs": [
        {
          "output_type": "stream",
          "name": "stdout",
          "text": [
            "[[5.1160227  3.10762712]\n",
            " [7.7797869  1.12312808]]\n"
          ]
        }
      ]
    },
    {
      "cell_type": "code",
      "source": [
        "print(tmp[:2,1:3])"
      ],
      "metadata": {
        "colab": {
          "base_uri": "https://localhost:8080/"
        },
        "id": "8tmilx_H7uBS",
        "outputId": "e78fe9ce-dcb9-4ef7-f48c-660d22724742"
      },
      "execution_count": null,
      "outputs": [
        {
          "output_type": "stream",
          "name": "stdout",
          "text": [
            "[[3.10762712 3.43469931]\n",
            " [1.12312808 0.16009195]]\n"
          ]
        }
      ]
    },
    {
      "cell_type": "code",
      "source": [
        "print(tmp[:1,1])\n",
        "print(tmp[2,2])\n",
        "print(tmp[2,1:3])"
      ],
      "metadata": {
        "colab": {
          "base_uri": "https://localhost:8080/"
        },
        "id": "I9IiTd_97wT0",
        "outputId": "c71e968a-e7ec-402f-e7dd-2dc4cae2a3d2"
      },
      "execution_count": null,
      "outputs": [
        {
          "output_type": "stream",
          "name": "stdout",
          "text": [
            "[3.10762712]\n",
            "5.19196639743515\n",
            "[4.98286513 5.1919664 ]\n"
          ]
        }
      ]
    },
    {
      "cell_type": "code",
      "source": [
        "tmp=10*np.random.random((3,3))\n",
        "print(tmp)"
      ],
      "metadata": {
        "colab": {
          "base_uri": "https://localhost:8080/"
        },
        "id": "1iaNgFZH7y8t",
        "outputId": "92affaa0-a329-484e-aa26-809cecbe692e"
      },
      "execution_count": null,
      "outputs": [
        {
          "output_type": "stream",
          "name": "stdout",
          "text": [
            "[[2.43211228 5.53169256 2.06884706]\n",
            " [0.66166169 2.75660834 5.59086588]\n",
            " [0.44957524 0.57364098 6.08184287]]\n"
          ]
        }
      ]
    },
    {
      "cell_type": "code",
      "source": [
        "mask=(tmp>=2)&(tmp<=4)"
      ],
      "metadata": {
        "id": "6-QnrRSH713W"
      },
      "execution_count": null,
      "outputs": []
    },
    {
      "cell_type": "code",
      "source": [
        "tmp= np.random.randint(1, 101, (4, 4))\n",
        "print(tmp)\n",
        "mask =np.mod(tmp, 2) == 0\n",
        "matriz_pares = tmp[mask]\n",
        "print(tmp[mask])"
      ],
      "metadata": {
        "id": "VTJq8jPi79Qd",
        "outputId": "90eed1e8-e80f-4154-84de-f8dd4534ef68",
        "colab": {
          "base_uri": "https://localhost:8080/"
        }
      },
      "execution_count": null,
      "outputs": [
        {
          "output_type": "stream",
          "name": "stdout",
          "text": [
            "[[ 41  34  18  16]\n",
            " [ 86  68  82  82]\n",
            " [ 58  19  62  46]\n",
            " [ 28  65 100  80]]\n",
            "[ 34  18  16  86  68  82  82  58  62  46  28 100  80]\n"
          ]
        }
      ]
    }
  ]
}